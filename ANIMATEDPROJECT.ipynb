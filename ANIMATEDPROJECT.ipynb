{
  "nbformat": 4,
  "nbformat_minor": 0,
  "metadata": {
    "colab": {
      "name": "ANIMATEDPROJECT.ipynb",
      "provenance": [],
      "collapsed_sections": [],
      "authorship_tag": "ABX9TyMU7cQplWUPXfDROW4VCY6H",
      "include_colab_link": true
    },
    "kernelspec": {
      "name": "python3",
      "display_name": "Python 3"
    }
  },
  "cells": [
    {
      "cell_type": "markdown",
      "metadata": {
        "id": "view-in-github",
        "colab_type": "text"
      },
      "source": [
        "<a href=\"https://colab.research.google.com/github/muhammadsaqueb/PYTHON_ANIMATED_PROJECT/blob/main/ANIMATEDPROJECT.ipynb\" target=\"_parent\"><img src=\"https://colab.research.google.com/assets/colab-badge.svg\" alt=\"Open In Colab\"/></a>"
      ]
    },
    {
      "cell_type": "code",
      "metadata": {
        "id": "xHIQa6vRnftI"
      },
      "source": [
        "from tkinter import *\r\n",
        "from PIL import Image,ImageTk\r\n",
        "from tkinter import messagebox\r\n",
        "\r\n",
        "class Login_System:\r\n",
        "\tdef __init__(self,root):\r\n",
        "\t\tself.root = root\r\n",
        "\t\tself.root.title(\"WELCOME TO AVENGERS | MIGHTY HEROS OF THE EARTH\")\r\n",
        "\t\tself.root.geometry(\"1700x900+0+0\")\r\n",
        "\r\n",
        "\t\tself.phone_image=PhotoImage(file=\"images/17.png\")\r\n",
        "\t\tself.lbl_phone_image=Label(self.root,image=self.phone_image).place(x=200,y=90)\r\n",
        "\r\n",
        "\t\tself.root.geometry('1350x700')\r\n",
        "\t\tself.load = Image.open('images\\\\SHEILD.png')\r\n",
        "\t\tself.render = ImageTk.PhotoImage(self.load)\r\n",
        "\t\tself.img = Label(root,image = self.render)\r\n",
        "\t\tself.img.place(x=0,y=0)\r\n",
        "  \r\n",
        "  \tlogin_frame=Frame(self.root,bd=2,relief=RIDGE)\r\n",
        "\t\tlogin_frame.place(x=1050,y=150,width=350,height=470)\r\n",
        "\r\n",
        "\t\ttitle=Label(login_frame,text=\"LOGIN SYSTEM\",font=(\"ELephant\",25,\"bold\"),bg=\"white\").place(x=0,y=0,relwidth=1)\r\n",
        "\r\n",
        "\t\tlb_user=Label(login_frame,text=\"Username\",font=(\"Andalus\",15),bg=\"white\",fg=\"#767171\").place(x=50,y=100)\r\n",
        "\t\ttxt_user=Entry(login_frame,textvariable=self,font=(\"Andalus\",15),bg=\"#ECECEC\").place(x=50,y=140)\r\n",
        "\r\n",
        "\t\tlb_pass=Label(login_frame,text=\"Password\",font=(\"Andalus\",15),bg=\"white\",fg=\"#767171\").place(x=50,y=200)\r\n",
        "\t\ttxt_pass=Entry(login_frame,font=(\"Andalus\",15),bg=\"#ECECEC\").place(x=50,y=240,width=250)\r\n",
        "\r\n",
        "\t\tbtn_login=Button(login_frame,text=\"Log In\",font=(\"Arial Rounded MT Bold\",15),bg=\"#00B0F0\",activebackground=\"#00B0F0\",fg=\"white\",activeforeground=\"white\").place(x=50,y=300,width=250,height=35)\t\t\r\n",
        "\r\n",
        "\t\thr=Label(login_frame,bg=\"lightgray\").place(x=50,y=370,width=250,height=2)\r\n",
        "\t\tor_ = Label(login_frame,text=\"OR\",bg=\"white\",fg=\"black\",font=(\"times new roman\",15,\"bold\")).place(x=150,y=360)\r\n",
        "\r\n",
        "\t\tbtn_forget=Button(login_frame,text=\"Forget Password?\",font=(\"times new roman\",13),bg=\"white\",fg=\"#00759E\",bd=0,activebackground=\"white\",activeforeground=\"#00759E\").place(x=100,y=390)\r\n",
        "\r\n",
        "\t\tbtn_forget=Button(login_frame,text=\"Forget Username?\",font=(\"times new roman\",13),bg=\"white\",fg=\"#00759E\",bd=0,activebackground=\"white\",activeforeground=\"#00759E\").place(x=100,y=410)\r\n",
        "\r\n",
        "\t\tregister_frame = Frame(self.root,bd=2,relief=RIDGE,bg=\"white\")\r\n",
        "\t\tregister_frame.place(x=1050,y=600,width=350,height=60)\r\n",
        "\r\n",
        "\t\tlbl_reg=Label(register_frame,text=\"You Can Be Next Avenger?\",font=(\"times new roman\",13),bg=\"white\").place(x=35,y=20)\r\n",
        "\t\tbtn_singup=Button(register_frame,text=\"Sign Up!!\",font=(\"times new roman\",13,\"bold\"),bg=\"white\",fg=\"#00759E\",bd=0,activebackground=\"white\",activeforeground=\"#00759E\").place(x=225,y=17)\r\n",
        "\r\n",
        "\t\tself.im1=ImageTk.PhotoImage(file=\"images/1.png\")\r\n",
        "\t\tself.im2=ImageTk.PhotoImage(file=\"images/2.png\")\t\r\n",
        "\t\tself.im3=ImageTk.PhotoImage(file=\"images/3.png\")\r\n",
        "\t\tself.im4=ImageTk.PhotoImage(file=\"images/4.png\")\r\n",
        "\t\tself.im5=ImageTk.PhotoImage(file=\"images/5.png\")\r\n",
        "\t\tself.im6=ImageTk.PhotoImage(file=\"images/6.png\")\r\n",
        "\t\tself.im7=ImageTk.PhotoImage(file=\"images/7.png\")\r\n",
        "\t\tself.im8=ImageTk.PhotoImage(file=\"images/8.png\")\r\n",
        "\t\tself.im9=ImageTk.PhotoImage(file=\"images/9.png\")\r\n",
        "\t\tself.im10=ImageTk.PhotoImage(file=\"images/10.png\")\r\n",
        "\t\tself.im11=ImageTk.PhotoImage(file=\"images/11.png\")\r\n",
        "\t\tself.im12=ImageTk.PhotoImage(file=\"images/12.png\")\r\n",
        "\t\tself.im13=ImageTk.PhotoImage(file=\"images/13.png\")\r\n",
        "\t\tself.im14=ImageTk.PhotoImage(file=\"images/14.png\")\r\n",
        "\t\tself.im15=ImageTk.PhotoImage(file=\"images/15.png\")\r\n",
        "\t\tself.im16=ImageTk.PhotoImage(file=\"images/16.png\")\r\n",
        "\r\n",
        "\r\n",
        "\t\tself.lbl_change_image=Label(self.root)\r\n",
        "\t\tself.lbl_change_image.place(x=100,y=130,width=382,height=566)\r\n",
        "\r\n",
        "\t\tself.animate()\r\n",
        "\r\n",
        "\tdef animate(self):\r\n",
        "\t\tself.im=self.im1\r\n",
        "\t\tself.im1=self.im2\r\n",
        "\t\tself.im2=self.im3\r\n",
        "\t\tself.im3=self.im4\r\n",
        "\t\tself.im4=self.im5\r\n",
        "\t\tself.im5=self.im6\r\n",
        "\t\tself.im6=self.im7\r\n",
        "\t\tself.im7=self.im8\r\n",
        "\t\tself.im8=self.im9\r\n",
        "\t\tself.im9=self.im10\r\n",
        "\t\tself.im10=self.im11\r\n",
        "\t\tself.im11=self.im12\r\n",
        "\t\tself.im12=self.im13\r\n",
        "\t\tself.im13=self.im14\r\n",
        "\t\tself.im14=self.im15\r\n",
        "\t\tself.im15=self.im16\r\n",
        "\t\tself.im16=self.im\r\n",
        "\t\tself.lbl_change_image.config(image=self.im)\r\n",
        "\t\tself.lbl_change_image.after(1500,self.animate)\r\n",
        "\r\n",
        "\r\n",
        "\r\n",
        "root = Tk()\r\n",
        "obj = Login_System(root)\r\n",
        "root.mainloop()\t\t"
      ],
      "execution_count": null,
      "outputs": []
    },
    {
      "cell_type": "code",
      "metadata": {
        "id": "5dbN_mB9N6wR"
      },
      "source": [
        ""
      ],
      "execution_count": null,
      "outputs": []
    }
  ]
}